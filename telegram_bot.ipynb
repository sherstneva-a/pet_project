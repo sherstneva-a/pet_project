{
 "cells": [
  {
   "cell_type": "code",
   "execution_count": 1,
   "metadata": {},
   "outputs": [],
   "source": [
    "import requests\n",
    "\n",
    "def send_message(token, chat_id, text):\n",
    "    url = f\"https://api.telegram.org/bot{token}/sendMessage\"\n",
    "    params = {\"chat_id\": chat_id, \"text\": text}\n",
    "    response = requests.get(url, params=params)\n",
    "    return response.json()\n",
    "\n",
    "# Данные о боте и группе\n",
    "token = \"TOKEN\"\n",
    "chat_id = \"@NewsSummariesHub\""
   ]
  },
  {
   "cell_type": "code",
   "execution_count": 2,
   "metadata": {},
   "outputs": [],
   "source": [
    "import sqlite3\n",
    "# Создаем подключение к БД\n",
    "conn = sqlite3.connect('text_generation.db')\n",
    "cursor = conn.cursor()\n",
    "\n",
    "# Получение последних 20 записей из таблицы final_table\n",
    "cursor.execute(\"SELECT short_text, url FROM final_table ORDER BY id DESC LIMIT 5\")\n",
    "rows = cursor.fetchall()\n",
    "\n",
    "# Отправка каждой записи в группу Telegram\n",
    "for row in rows:\n",
    "    short_text = row[0]\n",
    "    url = row[1]\n",
    "    message_text = f\"{short_text}\\n{url}\"\n",
    "    send_message(token, chat_id, message_text)\n"
   ]
  },
  {
   "cell_type": "code",
   "execution_count": 5,
   "metadata": {},
   "outputs": [],
   "source": [
    "import schedule\n",
    "import time\n",
    "\n",
    "# Функция для отправки сообщений\n",
    "def send_messages():\n",
    "    # Получение последних 20 записей из таблицы final_table\n",
    "    cursor.execute(\"SELECT short_text, url FROM final_table ORDER BY id DESC LIMIT 10\")\n",
    "    rows = cursor.fetchall()\n",
    "\n",
    "    # Отправка каждой записи в группу Telegram\n",
    "    for row in rows:\n",
    "        short_text = row[0]\n",
    "        url = row[1]\n",
    "        message_text = f\"{short_text}\\n{url}\"\n",
    "        send_message(token, chat_id, message_text)\n",
    "\n",
    "# Запуск функции send_messages каждый час\n",
    "schedule.every().hour.do(send_messages)\n",
    "\n",
    "# Бесконечный цикл для выполнения расписания\n",
    "while True:\n",
    "    schedule.run_pending()\n",
    "    time.sleep(1)\n"
   ]
  }
 ],
 "metadata": {
  "kernelspec": {
   "display_name": "Python 3",
   "language": "python",
   "name": "python3"
  },
  "language_info": {
   "codemirror_mode": {
    "name": "ipython",
    "version": 3
   },
   "file_extension": ".py",
   "mimetype": "text/x-python",
   "name": "python",
   "nbconvert_exporter": "python",
   "pygments_lexer": "ipython3",
   "version": "3.11.5"
  }
 },
 "nbformat": 4,
 "nbformat_minor": 2
}
